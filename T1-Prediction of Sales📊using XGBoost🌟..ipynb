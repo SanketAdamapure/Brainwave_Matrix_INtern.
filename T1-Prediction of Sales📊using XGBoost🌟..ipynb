{
 "cells": [
  {
   "cell_type": "code",
   "execution_count": 1,
   "id": "0498b28f",
   "metadata": {},
   "outputs": [],
   "source": [
    "# This Python 3 environment comes with many helpful analytics libraries installed\n",
    "# For example, here's several helpful packages to load\n",
    "\n",
    "import numpy as np # linear algebra\n",
    "import pandas as pd # data processing, CSV file I/O (e.g. pd.read_csv)\n",
    "\n",
    "# Input data files are available in the read-only \"../input/\" directory\n",
    "# For example, running this (by clicking run or pressing Shift+Enter) will list all files under the input directory\n"
   ]
  },
  {
   "cell_type": "markdown",
   "id": "6c7c9e06",
   "metadata": {},
   "source": [
    "#### UNDERSTANDING OF THE PROBLEM STATEMENT :\n",
    "\n",
    "- According to the quote, **\"Success in sales is the sum of small efforts, repeated day in & day out\"**\n",
    "\n",
    "- Let us consider a supermarket has several outlets or several stores around the world & they want us to predict the sales which they can expect.\n",
    "\n",
    "#### APPLICATION OF PREDICTING THE SALES :\n",
    "\n",
    "- We can tell the company what are all the challenges they may face\n",
    "\n",
    "- What are the brands or products which is sold the most & other such kind of things\n",
    "\n",
    "- This helps sales team to understand which product to sell & which product to promote & other such kind of things\n",
    "\n",
    "- They can also make several marketing plans(let's say that a particular product in a particular store is getting sold the most & we may find some insights from it - as of why this product is getting sold the most & this helps the company to make better marketing decisions)"
   ]
  },
  {
   "cell_type": "markdown",
   "id": "6f01237d",
   "metadata": {},
   "source": [
    "**IMPORTING LIBRARIES**"
   ]
  },
  {
   "cell_type": "code",
   "execution_count": 2,
   "id": "3c3a71ec",
   "metadata": {},
   "outputs": [],
   "source": [
    "import numpy as np\n",
    "import pandas as pd\n",
    "import matplotlib.pyplot as plt\n",
    "import seaborn as sns\n",
    "from sklearn.preprocessing import LabelEncoder\n",
    "from sklearn.model_selection import train_test_split\n",
    "from xgboost import XGBRegressor\n",
    "from sklearn import metrics"
   ]
  },
  {
   "cell_type": "markdown",
   "id": "dc05b749",
   "metadata": {},
   "source": [
    "#### LOADING THE DATA"
   ]
  },
  {
   "cell_type": "code",
   "execution_count": 3,
   "id": "81eee495",
   "metadata": {},
   "outputs": [
    {
     "data": {
      "text/html": [
       "<div>\n",
       "<style scoped>\n",
       "    .dataframe tbody tr th:only-of-type {\n",
       "        vertical-align: middle;\n",
       "    }\n",
       "\n",
       "    .dataframe tbody tr th {\n",
       "        vertical-align: top;\n",
       "    }\n",
       "\n",
       "    .dataframe thead th {\n",
       "        text-align: right;\n",
       "    }\n",
       "</style>\n",
       "<table border=\"1\" class=\"dataframe\">\n",
       "  <thead>\n",
       "    <tr style=\"text-align: right;\">\n",
       "      <th></th>\n",
       "      <th>Item_Identifier</th>\n",
       "      <th>Item_Weight</th>\n",
       "      <th>Item_Fat_Content</th>\n",
       "      <th>Item_Visibility</th>\n",
       "      <th>Item_Type</th>\n",
       "      <th>Item_MRP</th>\n",
       "      <th>Outlet_Identifier</th>\n",
       "      <th>Outlet_Establishment_Year</th>\n",
       "      <th>Outlet_Size</th>\n",
       "      <th>Outlet_Location_Type</th>\n",
       "      <th>Outlet_Type</th>\n",
       "      <th>Item_Outlet_Sales</th>\n",
       "    </tr>\n",
       "  </thead>\n",
       "  <tbody>\n",
       "    <tr>\n",
       "      <th>0</th>\n",
       "      <td>FDA15</td>\n",
       "      <td>9.30</td>\n",
       "      <td>Low Fat</td>\n",
       "      <td>0.016047</td>\n",
       "      <td>Dairy</td>\n",
       "      <td>249.8092</td>\n",
       "      <td>OUT049</td>\n",
       "      <td>1999</td>\n",
       "      <td>Medium</td>\n",
       "      <td>Tier 1</td>\n",
       "      <td>Supermarket Type1</td>\n",
       "      <td>3735.1380</td>\n",
       "    </tr>\n",
       "    <tr>\n",
       "      <th>1</th>\n",
       "      <td>DRC01</td>\n",
       "      <td>5.92</td>\n",
       "      <td>Regular</td>\n",
       "      <td>0.019278</td>\n",
       "      <td>Soft Drinks</td>\n",
       "      <td>48.2692</td>\n",
       "      <td>OUT018</td>\n",
       "      <td>2009</td>\n",
       "      <td>Medium</td>\n",
       "      <td>Tier 3</td>\n",
       "      <td>Supermarket Type2</td>\n",
       "      <td>443.4228</td>\n",
       "    </tr>\n",
       "    <tr>\n",
       "      <th>2</th>\n",
       "      <td>FDN15</td>\n",
       "      <td>17.50</td>\n",
       "      <td>Low Fat</td>\n",
       "      <td>0.016760</td>\n",
       "      <td>Meat</td>\n",
       "      <td>141.6180</td>\n",
       "      <td>OUT049</td>\n",
       "      <td>1999</td>\n",
       "      <td>Medium</td>\n",
       "      <td>Tier 1</td>\n",
       "      <td>Supermarket Type1</td>\n",
       "      <td>2097.2700</td>\n",
       "    </tr>\n",
       "    <tr>\n",
       "      <th>3</th>\n",
       "      <td>FDX07</td>\n",
       "      <td>19.20</td>\n",
       "      <td>Regular</td>\n",
       "      <td>0.000000</td>\n",
       "      <td>Fruits and Vegetables</td>\n",
       "      <td>182.0950</td>\n",
       "      <td>OUT010</td>\n",
       "      <td>1998</td>\n",
       "      <td>NaN</td>\n",
       "      <td>Tier 3</td>\n",
       "      <td>Grocery Store</td>\n",
       "      <td>732.3800</td>\n",
       "    </tr>\n",
       "    <tr>\n",
       "      <th>4</th>\n",
       "      <td>NCD19</td>\n",
       "      <td>8.93</td>\n",
       "      <td>Low Fat</td>\n",
       "      <td>0.000000</td>\n",
       "      <td>Household</td>\n",
       "      <td>53.8614</td>\n",
       "      <td>OUT013</td>\n",
       "      <td>1987</td>\n",
       "      <td>High</td>\n",
       "      <td>Tier 3</td>\n",
       "      <td>Supermarket Type1</td>\n",
       "      <td>994.7052</td>\n",
       "    </tr>\n",
       "  </tbody>\n",
       "</table>\n",
       "</div>"
      ],
      "text/plain": [
       "  Item_Identifier  Item_Weight Item_Fat_Content  Item_Visibility  \\\n",
       "0           FDA15         9.30          Low Fat         0.016047   \n",
       "1           DRC01         5.92          Regular         0.019278   \n",
       "2           FDN15        17.50          Low Fat         0.016760   \n",
       "3           FDX07        19.20          Regular         0.000000   \n",
       "4           NCD19         8.93          Low Fat         0.000000   \n",
       "\n",
       "               Item_Type  Item_MRP Outlet_Identifier  \\\n",
       "0                  Dairy  249.8092            OUT049   \n",
       "1            Soft Drinks   48.2692            OUT018   \n",
       "2                   Meat  141.6180            OUT049   \n",
       "3  Fruits and Vegetables  182.0950            OUT010   \n",
       "4              Household   53.8614            OUT013   \n",
       "\n",
       "   Outlet_Establishment_Year Outlet_Size Outlet_Location_Type  \\\n",
       "0                       1999      Medium               Tier 1   \n",
       "1                       2009      Medium               Tier 3   \n",
       "2                       1999      Medium               Tier 1   \n",
       "3                       1998         NaN               Tier 3   \n",
       "4                       1987        High               Tier 3   \n",
       "\n",
       "         Outlet_Type  Item_Outlet_Sales  \n",
       "0  Supermarket Type1          3735.1380  \n",
       "1  Supermarket Type2           443.4228  \n",
       "2  Supermarket Type1          2097.2700  \n",
       "3      Grocery Store           732.3800  \n",
       "4  Supermarket Type1           994.7052  "
      ]
     },
     "execution_count": 3,
     "metadata": {},
     "output_type": "execute_result"
    }
   ],
   "source": [
    "# loading the data \n",
    "sales_data = pd.read_csv('Train.csv')\n",
    "#checking the first 5 rows of the dataframe\n",
    "sales_data.head()"
   ]
  },
  {
   "cell_type": "markdown",
   "id": "12b70cb8",
   "metadata": {},
   "source": [
    "#### It is important to note that Item_Outlet_Sales is the target variable which we are going to predict & the remaining are the feature variables."
   ]
  },
  {
   "cell_type": "code",
   "execution_count": 4,
   "id": "99599b31",
   "metadata": {},
   "outputs": [
    {
     "data": {
      "text/plain": [
       "(8523, 12)"
      ]
     },
     "execution_count": 4,
     "metadata": {},
     "output_type": "execute_result"
    }
   ],
   "source": [
    "# checking the number of data points(different products present in the dataset) & number of features\n",
    "sales_data.shape"
   ]
  },
  {
   "cell_type": "markdown",
   "id": "b944ef4b",
   "metadata": {},
   "source": [
    "#### Hence, we are having 8523 different products with 12 features."
   ]
  },
  {
   "cell_type": "code",
   "execution_count": 5,
   "id": "6e347602",
   "metadata": {},
   "outputs": [
    {
     "name": "stdout",
     "output_type": "stream",
     "text": [
      "<class 'pandas.core.frame.DataFrame'>\n",
      "RangeIndex: 8523 entries, 0 to 8522\n",
      "Data columns (total 12 columns):\n",
      " #   Column                     Non-Null Count  Dtype  \n",
      "---  ------                     --------------  -----  \n",
      " 0   Item_Identifier            8523 non-null   object \n",
      " 1   Item_Weight                7060 non-null   float64\n",
      " 2   Item_Fat_Content           8523 non-null   object \n",
      " 3   Item_Visibility            8523 non-null   float64\n",
      " 4   Item_Type                  8523 non-null   object \n",
      " 5   Item_MRP                   8523 non-null   float64\n",
      " 6   Outlet_Identifier          8523 non-null   object \n",
      " 7   Outlet_Establishment_Year  8523 non-null   int64  \n",
      " 8   Outlet_Size                6113 non-null   object \n",
      " 9   Outlet_Location_Type       8523 non-null   object \n",
      " 10  Outlet_Type                8523 non-null   object \n",
      " 11  Item_Outlet_Sales          8523 non-null   float64\n",
      "dtypes: float64(4), int64(1), object(7)\n",
      "memory usage: 799.2+ KB\n"
     ]
    }
   ],
   "source": [
    "# Getting some information about the dataset\n",
    "sales_data.info()"
   ]
  },
  {
   "cell_type": "markdown",
   "id": "f9d1717f",
   "metadata": {},
   "source": [
    "##### Categorical Features:\n",
    "\n",
    "- Item_Identifier : categories of different products.\n",
    "\n",
    "- Item_Fat_Content : It tells us whether it has high fat content or low fat content or regular fat content.\n",
    "\n",
    "- Item_Type : It tells us whether it has meat or soft drink & such kind of things.\n",
    "\n",
    "- Outlet_Identifier : It tells us the unique ID of the outlet.\n",
    "\n",
    "- Outlet_Size : it tells us whether it is medium,high or small in size.\n",
    "\n",
    "- Outlet_Location_Type : It tells us whether it is tier 1 or tier 2 & such kind of things.\n",
    "\n",
    "- Outlet_Type : It tells us whether it is supermarket or grocerry store."
   ]
  },
  {
   "cell_type": "code",
   "execution_count": 6,
   "id": "0458950c",
   "metadata": {},
   "outputs": [
    {
     "data": {
      "text/plain": [
       "Item_Identifier                 0\n",
       "Item_Weight                  1463\n",
       "Item_Fat_Content                0\n",
       "Item_Visibility                 0\n",
       "Item_Type                       0\n",
       "Item_MRP                        0\n",
       "Outlet_Identifier               0\n",
       "Outlet_Establishment_Year       0\n",
       "Outlet_Size                  2410\n",
       "Outlet_Location_Type            0\n",
       "Outlet_Type                     0\n",
       "Item_Outlet_Sales               0\n",
       "dtype: int64"
      ]
     },
     "execution_count": 6,
     "metadata": {},
     "output_type": "execute_result"
    }
   ],
   "source": [
    "# checking for missing values\n",
    "sales_data.isnull().sum()"
   ]
  },
  {
   "cell_type": "markdown",
   "id": "e6399e76",
   "metadata": {},
   "source": [
    "#### We can observe that we are having 1463 missing values in the Item_Weight column & we are having about 2410 missing values in the Outlet_Size column."
   ]
  },
  {
   "cell_type": "markdown",
   "id": "e49ba022",
   "metadata": {},
   "source": [
    "#### IN ORDER TO DEAL WITH THE MISSING VALUES\n",
    "\n",
    "#### Mean --> average\n",
    "\n",
    "- The Mean value of a dataset is the average value i.e. a number around which a whole data is spread out. All values used in calculating the average are weighted equally when defining the Mean\n",
    "\n",
    "- In this case, in order to convert the missing values in the numerical column, we use mean of that particular column\n",
    "\n",
    "#### Mode --> most repeated value\n",
    "\n",
    "- The mode is the value that appears most frequently in a data set. A set of data may have one mode, more than one mode, or no mode at all.The mode can be the same value as the mean and/or median, but this is usually not the case.\n",
    "\n",
    "- In this case, in order to convert the missing values in the categorical feature, we use the mode of that particular column"
   ]
  },
  {
   "cell_type": "markdown",
   "id": "afccf5f0",
   "metadata": {},
   "source": [
    "#### Replacing the missing values in the \"Item_Weight\"column"
   ]
  },
  {
   "cell_type": "code",
   "execution_count": 7,
   "id": "becf99fa",
   "metadata": {},
   "outputs": [
    {
     "data": {
      "text/plain": [
       "12.857645184136183"
      ]
     },
     "execution_count": 7,
     "metadata": {},
     "output_type": "execute_result"
    }
   ],
   "source": [
    "# mean value of \"Item_Weight\" column\n",
    "sales_data['Item_Weight'].mean()"
   ]
  },
  {
   "cell_type": "code",
   "execution_count": 8,
   "id": "6b384c06",
   "metadata": {},
   "outputs": [],
   "source": [
    "# filling the missing values in \"Item_weight column\" with \"Mean\" value\n",
    "sales_data['Item_Weight'].fillna(sales_data['Item_Weight'].mean(), inplace=True)"
   ]
  },
  {
   "cell_type": "markdown",
   "id": "610e415a",
   "metadata": {},
   "source": [
    "#### Replacing the missing values in the \"Outlet_Size\"column"
   ]
  },
  {
   "cell_type": "code",
   "execution_count": 9,
   "id": "dd8c7045",
   "metadata": {},
   "outputs": [
    {
     "data": {
      "text/plain": [
       "0    Medium\n",
       "dtype: object"
      ]
     },
     "execution_count": 9,
     "metadata": {},
     "output_type": "execute_result"
    }
   ],
   "source": [
    "# mode of \"Outlet_Size\" column\n",
    "sales_data['Outlet_Size'].mode()"
   ]
  },
  {
   "cell_type": "code",
   "execution_count": 10,
   "id": "2778ac33",
   "metadata": {},
   "outputs": [],
   "source": [
    "# filling the missing values in \"Outlet_Size\" column with Mode\n",
    "#Here we take Outlet_Size column & Outlet_Type column since they are correlated\n",
    "mode_of_Outlet_size = sales_data.pivot_table(values='Outlet_Size', columns='Outlet_Type', aggfunc=(lambda x: x.mode()[0]))"
   ]
  },
  {
   "cell_type": "code",
   "execution_count": 11,
   "id": "ddfe284d",
   "metadata": {},
   "outputs": [
    {
     "name": "stdout",
     "output_type": "stream",
     "text": [
      "Outlet_Type Grocery Store Supermarket Type1 Supermarket Type2  \\\n",
      "Outlet_Size         Small             Small            Medium   \n",
      "\n",
      "Outlet_Type Supermarket Type3  \n",
      "Outlet_Size            Medium  \n"
     ]
    }
   ],
   "source": [
    "print(mode_of_Outlet_size)"
   ]
  },
  {
   "cell_type": "markdown",
   "id": "f55e0638",
   "metadata": {},
   "source": [
    " From the above pivot table, we can observe that\n",
    "\n",
    "- If the outlet type is Grocery Store in most of the cases the outlet size(mode) is Small.\n",
    "- If the outlet type is Supermarket Type1 in most of the cases the outlet size(mode) is Small.\n",
    "- If the outlet type is Supermarket Type2 in most of the cases the outlet size(mode) is Medium.\n",
    "- If the outlet type is Supermarket Type3 in most of the cases the outlet size(mode) is Medium."
   ]
  },
  {
   "cell_type": "code",
   "execution_count": 12,
   "id": "28cc9617",
   "metadata": {},
   "outputs": [],
   "source": [
    "miss_values = sales_data['Outlet_Size'].isnull()"
   ]
  },
  {
   "cell_type": "code",
   "execution_count": 13,
   "id": "1eee5377",
   "metadata": {},
   "outputs": [
    {
     "name": "stdout",
     "output_type": "stream",
     "text": [
      "0       False\n",
      "1       False\n",
      "2       False\n",
      "3        True\n",
      "4       False\n",
      "        ...  \n",
      "8518    False\n",
      "8519     True\n",
      "8520    False\n",
      "8521    False\n",
      "8522    False\n",
      "Name: Outlet_Size, Length: 8523, dtype: bool\n"
     ]
    }
   ],
   "source": [
    "print(miss_values)"
   ]
  },
  {
   "cell_type": "markdown",
   "id": "bf7ae250",
   "metadata": {},
   "source": [
    "**False** represents it is not null that means the **value is present.**\n",
    "\n",
    "**True** represents a particular **value is missing.**"
   ]
  },
  {
   "cell_type": "code",
   "execution_count": 14,
   "id": "65dcb0e7",
   "metadata": {},
   "outputs": [],
   "source": [
    "sales_data.loc[miss_values, 'Outlet_Size'] = sales_data.loc[miss_values,'Outlet_Type'].apply(lambda x: mode_of_Outlet_size[x])"
   ]
  },
  {
   "cell_type": "code",
   "execution_count": 15,
   "id": "fcf9e393",
   "metadata": {},
   "outputs": [
    {
     "data": {
      "text/plain": [
       "Item_Identifier              0\n",
       "Item_Weight                  0\n",
       "Item_Fat_Content             0\n",
       "Item_Visibility              0\n",
       "Item_Type                    0\n",
       "Item_MRP                     0\n",
       "Outlet_Identifier            0\n",
       "Outlet_Establishment_Year    0\n",
       "Outlet_Size                  0\n",
       "Outlet_Location_Type         0\n",
       "Outlet_Type                  0\n",
       "Item_Outlet_Sales            0\n",
       "dtype: int64"
      ]
     },
     "execution_count": 15,
     "metadata": {},
     "output_type": "execute_result"
    }
   ],
   "source": [
    "# checking for missing values\n",
    "sales_data.isnull().sum()"
   ]
  },
  {
   "cell_type": "markdown",
   "id": "b813108a",
   "metadata": {},
   "source": [
    "#### Thus we don't have any missing values in a numerical column & a categorical column."
   ]
  },
  {
   "cell_type": "markdown",
   "id": "1dfe6089",
   "metadata": {},
   "source": [
    "#### ANALYSING THE DATA"
   ]
  },
  {
   "cell_type": "code",
   "execution_count": 16,
   "id": "e7deba3f",
   "metadata": {},
   "outputs": [
    {
     "data": {
      "text/html": [
       "<div>\n",
       "<style scoped>\n",
       "    .dataframe tbody tr th:only-of-type {\n",
       "        vertical-align: middle;\n",
       "    }\n",
       "\n",
       "    .dataframe tbody tr th {\n",
       "        vertical-align: top;\n",
       "    }\n",
       "\n",
       "    .dataframe thead th {\n",
       "        text-align: right;\n",
       "    }\n",
       "</style>\n",
       "<table border=\"1\" class=\"dataframe\">\n",
       "  <thead>\n",
       "    <tr style=\"text-align: right;\">\n",
       "      <th></th>\n",
       "      <th>Item_Weight</th>\n",
       "      <th>Item_Visibility</th>\n",
       "      <th>Item_MRP</th>\n",
       "      <th>Outlet_Establishment_Year</th>\n",
       "      <th>Item_Outlet_Sales</th>\n",
       "    </tr>\n",
       "  </thead>\n",
       "  <tbody>\n",
       "    <tr>\n",
       "      <th>count</th>\n",
       "      <td>8523.000000</td>\n",
       "      <td>8523.000000</td>\n",
       "      <td>8523.000000</td>\n",
       "      <td>8523.000000</td>\n",
       "      <td>8523.000000</td>\n",
       "    </tr>\n",
       "    <tr>\n",
       "      <th>mean</th>\n",
       "      <td>12.857645</td>\n",
       "      <td>0.066132</td>\n",
       "      <td>140.992782</td>\n",
       "      <td>1997.831867</td>\n",
       "      <td>2181.288914</td>\n",
       "    </tr>\n",
       "    <tr>\n",
       "      <th>std</th>\n",
       "      <td>4.226124</td>\n",
       "      <td>0.051598</td>\n",
       "      <td>62.275067</td>\n",
       "      <td>8.371760</td>\n",
       "      <td>1706.499616</td>\n",
       "    </tr>\n",
       "    <tr>\n",
       "      <th>min</th>\n",
       "      <td>4.555000</td>\n",
       "      <td>0.000000</td>\n",
       "      <td>31.290000</td>\n",
       "      <td>1985.000000</td>\n",
       "      <td>33.290000</td>\n",
       "    </tr>\n",
       "    <tr>\n",
       "      <th>25%</th>\n",
       "      <td>9.310000</td>\n",
       "      <td>0.026989</td>\n",
       "      <td>93.826500</td>\n",
       "      <td>1987.000000</td>\n",
       "      <td>834.247400</td>\n",
       "    </tr>\n",
       "    <tr>\n",
       "      <th>50%</th>\n",
       "      <td>12.857645</td>\n",
       "      <td>0.053931</td>\n",
       "      <td>143.012800</td>\n",
       "      <td>1999.000000</td>\n",
       "      <td>1794.331000</td>\n",
       "    </tr>\n",
       "    <tr>\n",
       "      <th>75%</th>\n",
       "      <td>16.000000</td>\n",
       "      <td>0.094585</td>\n",
       "      <td>185.643700</td>\n",
       "      <td>2004.000000</td>\n",
       "      <td>3101.296400</td>\n",
       "    </tr>\n",
       "    <tr>\n",
       "      <th>max</th>\n",
       "      <td>21.350000</td>\n",
       "      <td>0.328391</td>\n",
       "      <td>266.888400</td>\n",
       "      <td>2009.000000</td>\n",
       "      <td>13086.964800</td>\n",
       "    </tr>\n",
       "  </tbody>\n",
       "</table>\n",
       "</div>"
      ],
      "text/plain": [
       "       Item_Weight  Item_Visibility     Item_MRP  Outlet_Establishment_Year  \\\n",
       "count  8523.000000      8523.000000  8523.000000                8523.000000   \n",
       "mean     12.857645         0.066132   140.992782                1997.831867   \n",
       "std       4.226124         0.051598    62.275067                   8.371760   \n",
       "min       4.555000         0.000000    31.290000                1985.000000   \n",
       "25%       9.310000         0.026989    93.826500                1987.000000   \n",
       "50%      12.857645         0.053931   143.012800                1999.000000   \n",
       "75%      16.000000         0.094585   185.643700                2004.000000   \n",
       "max      21.350000         0.328391   266.888400                2009.000000   \n",
       "\n",
       "       Item_Outlet_Sales  \n",
       "count        8523.000000  \n",
       "mean         2181.288914  \n",
       "std          1706.499616  \n",
       "min            33.290000  \n",
       "25%           834.247400  \n",
       "50%          1794.331000  \n",
       "75%          3101.296400  \n",
       "max         13086.964800  "
      ]
     },
     "execution_count": 16,
     "metadata": {},
     "output_type": "execute_result"
    }
   ],
   "source": [
    "# Stastical measures about the data\n",
    "sales_data.describe()"
   ]
  },
  {
   "cell_type": "markdown",
   "id": "6be18918",
   "metadata": {},
   "source": [
    "#### DATA VISUALIZATION\n",
    "\n",
    "- Data visualization is the graphical representation of information and data.\n",
    "- It enables decision makers to see analytics presented visually, so they can grasp difficult concepts or identify new patterns"
   ]
  },
  {
   "cell_type": "markdown",
   "id": "0f82c1fe",
   "metadata": {},
   "source": [
    "#### VISUALIZATION OF NUMERICAL FEATURES"
   ]
  },
  {
   "cell_type": "code",
   "execution_count": 17,
   "id": "2c513678",
   "metadata": {},
   "outputs": [],
   "source": [
    "sns.set()"
   ]
  },
  {
   "cell_type": "code",
   "execution_count": 30,
   "id": "644d7783",
   "metadata": {},
   "outputs": [
    {
     "data": {
      "image/png": "[encoded data removed]",
      "text/plain": [
       "<Figure size 432x288 with 1 Axes>"
      ]
     },
     "metadata": {},
     "output_type": "display_data"
    }
   ],
   "source": [
    "# Item_Weight distribution\n",
    "#plt.figure(figsize=(5,5))\n",
    "sns.distplot(sales_data['Item_Weight'], color='brown')\n",
    "plt.show()"
   ]
  },
  {
   "cell_type": "markdown",
   "id": "4aaadd58",
   "metadata": {},
   "source": [
    "- Hence from the above graph we can observe that we have the item weight from 5 Kg to 20 Kg & we have maximum values around 12 Kg where the mean is 12.85 Kg.\n",
    "\n",
    "- Therefore in this 8523 products the average weight is about 12.8 Kg."
   ]
  },
  {
   "cell_type": "code",
   "execution_count": 31,
   "id": "dd60e0ab",
   "metadata": {},
   "outputs": [
    {
     "name": "stderr",
     "output_type": "stream",
     "text": [
      "C:\\Users\\sanket\\anaconda3\\lib\\site-packages\\seaborn\\distributions.py:2619: FutureWarning: `distplot` is a deprecated function and will be removed in a future version. Please adapt your code to use either `displot` (a figure-level function with similar flexibility) or `histplot` (an axes-level function for histograms).\n",
      "  warnings.warn(msg, FutureWarning)\n"
     ]
    },
    {
     "data": {
      "image/png": "[encoded data removed]",
      "text/plain": [
       "<Figure size 432x288 with 1 Axes>"
      ]
     },
     "metadata": {},
     "output_type": "display_data"
    }
   ],
   "source": [
    "# Item Visibility distribution\n",
    "#plt.figure(figsize=(5,5))\n",
    "sns.distplot(sales_data['Item_Visibility'], color='Red')\n",
    "plt.show()"
   ]
  },
  {
   "cell_type": "markdown",
   "id": "a0d8fddb",
   "metadata": {},
   "source": [
    "##### Hence from the above graph we can observe that Item_Visibility feature is positively skewed"
   ]
  },
  {
   "cell_type": "code",
   "execution_count": 32,
   "id": "630e4662",
   "metadata": {},
   "outputs": [
    {
     "name": "stderr",
     "output_type": "stream",
     "text": [
      "C:\\Users\\sanket\\anaconda3\\lib\\site-packages\\seaborn\\distributions.py:2619: FutureWarning: `distplot` is a deprecated function and will be removed in a future version. Please adapt your code to use either `displot` (a figure-level function with similar flexibility) or `histplot` (an axes-level function for histograms).\n",
      "  warnings.warn(msg, FutureWarning)\n"
     ]
    },
    {
     "data": {
      "image/png": "[encoded data removed]",
      "text/plain": [
       "<Figure size 432x288 with 1 Axes>"
      ]
     },
     "metadata": {},
     "output_type": "display_data"
    }
   ],
   "source": [
    "# Item MRP distribution\n",
    "#plt.figure(figsize=(5,5))\n",
    "sns.distplot(sales_data['Item_MRP'], color='purple')\n",
    "plt.show()"
   ]
  },
  {
   "cell_type": "markdown",
   "id": "51e4cbdb",
   "metadata": {},
   "source": [
    "- From the above graph, we can observe that we have good amount of products for 50 MRP, 100 MRP ,200 MRP & then we have less products\n",
    "\n",
    "- Hence we have more products in the range of 100 MRP - 180 MRP"
   ]
  },
  {
   "cell_type": "code",
   "execution_count": 37,
   "id": "a1b48bd5",
   "metadata": {},
   "outputs": [
    {
     "name": "stderr",
     "output_type": "stream",
     "text": [
      "C:\\Users\\sanket\\anaconda3\\lib\\site-packages\\seaborn\\distributions.py:2619: FutureWarning: `distplot` is a deprecated function and will be removed in a future version. Please adapt your code to use either `displot` (a figure-level function with similar flexibility) or `histplot` (an axes-level function for histograms).\n",
      "  warnings.warn(msg, FutureWarning)\n"
     ]
    },
    {
     "data": {
      "image/png": "[encoded data removed]",
      "text/plain": [
       "<Figure size 432x288 with 1 Axes>"
      ]
     },
     "metadata": {},
     "output_type": "display_data"
    }
   ],
   "source": [
    "# Item_Outlet_Sales distribution\n",
    "#plt.figure(figsize=(5,5))\n",
    "sns.distplot(sales_data['Item_Outlet_Sales'], color='Violet')\n",
    "plt.show()"
   ]
  },
  {
   "cell_type": "markdown",
   "id": "1ea7b411",
   "metadata": {},
   "source": [
    "- Hence from the above graph we can observe that Item_Outlet_Sales feature is positively skewed."
   ]
  },
  {
   "cell_type": "code",
   "execution_count": 38,
   "id": "e1a7c22e",
   "metadata": {},
   "outputs": [
    {
     "data": {
      "image/png": "[encoded data removed]",
      "text/plain": [
       "<Figure size 432x288 with 1 Axes>"
      ]
     },
     "metadata": {},
     "output_type": "display_data"
    }
   ],
   "source": [
    "# Outlet_Establishment_Year column\n",
    "#plt.figure(figsize=(5,5))\n",
    "sns.countplot(x='Outlet_Establishment_Year', data=sales_data)\n",
    "plt.show()"
   ]
  },
  {
   "cell_type": "markdown",
   "id": "10b2806d",
   "metadata": {},
   "source": [
    "- Hence from the above graph we can observe that we have the outlet establishment from the year 1985, 1987 and all the way to 2009.\n",
    "\n",
    "- Therefore these are the years on which different outlets or different stores have been established.\n",
    "\n",
    "- We can also observe that a lots of stores are established in the year 1985 & less in the year 1998 & all the others years are almost same."
   ]
  },
  {
   "cell_type": "markdown",
   "id": "c307b088",
   "metadata": {},
   "source": [
    "#### VISUALIZATION OF CATEGORICAL FEATURES"
   ]
  },
  {
   "cell_type": "code",
   "execution_count": 39,
   "id": "c8ff0aca",
   "metadata": {},
   "outputs": [
    {
     "data": {
      "image/png": "[encoded data removed]",
      "text/plain": [
       "<Figure size 432x288 with 1 Axes>"
      ]
     },
     "metadata": {},
     "output_type": "display_data"
    }
   ],
   "source": [
    "# Item_Fat_Content column\n",
    "#plt.figure(figsize=(5,5))\n",
    "sns.countplot(x='Item_Fat_Content', data=sales_data)\n",
    "plt.show()"
   ]
  },
  {
   "cell_type": "markdown",
   "id": "4f348037",
   "metadata": {},
   "source": [
    "- From the above graph we can observe that the data in the Item_Fat_Content column has to be cleaned since we have columns such as Low fat,low fat & Lf which is same & must be put into a single particular label.Similarly we have Regular & reg where we need to put this into a single entity.\n",
    "\n",
    "- Hence, we need to pre process this data so we will be dealing with this in a later point of time after the visualization of the data"
   ]
  },
  {
   "cell_type": "code",
   "execution_count": 40,
   "id": "27f8e643",
   "metadata": {},
   "outputs": [
    {
     "data": {
      "image/png": "[encoded data removed]",
      "text/plain": [
       "<Figure size 1800x504 with 1 Axes>"
      ]
     },
     "metadata": {},
     "output_type": "display_data"
    }
   ],
   "source": [
    "# Item_Type column\n",
    "plt.figure(figsize=(25,7))\n",
    "sns.countplot(x='Item_Type', data=sales_data)\n",
    "plt.show()"
   ]
  },
  {
   "cell_type": "markdown",
   "id": "aa5f2c95",
   "metadata": {},
   "source": [
    "- From the above graph we can observe the different items or food types we have such as dairy, soft drinks, meat, fruits & vegetables, household etc\n",
    "\n",
    "- Hence totally we have about 16 Item_Type values in this case where we have more values in the fruits & vegetables column and snack foods column"
   ]
  },
  {
   "cell_type": "code",
   "execution_count": 41,
   "id": "5f82ce79",
   "metadata": {},
   "outputs": [
    {
     "data": {
      "image/png": "[encoded data removed]",
      "text/plain": [
       "<Figure size 432x288 with 1 Axes>"
      ]
     },
     "metadata": {},
     "output_type": "display_data"
    }
   ],
   "source": [
    "# Outlet_Size column\n",
    "#plt.figure(figsize=(5,5))\n",
    "sns.countplot(x='Outlet_Size', data=sales_data)\n",
    "plt.show()"
   ]
  },
  {
   "cell_type": "markdown",
   "id": "3b893c04",
   "metadata": {},
   "source": [
    "- From the above graph, we can observe that we have three outlet_Size in this case which is medium, small & high."
   ]
  },
  {
   "cell_type": "markdown",
   "id": "ce1b5734",
   "metadata": {},
   "source": [
    "### PREPROCESSING OF DATA"
   ]
  },
  {
   "cell_type": "code",
   "execution_count": 42,
   "id": "3e6e6eed",
   "metadata": {},
   "outputs": [
    {
     "data": {
      "text/html": [
       "<div>\n",
       "<style scoped>\n",
       "    .dataframe tbody tr th:only-of-type {\n",
       "        vertical-align: middle;\n",
       "    }\n",
       "\n",
       "    .dataframe tbody tr th {\n",
       "        vertical-align: top;\n",
       "    }\n",
       "\n",
       "    .dataframe thead th {\n",
       "        text-align: right;\n",
       "    }\n",
       "</style>\n",
       "<table border=\"1\" class=\"dataframe\">\n",
       "  <thead>\n",
       "    <tr style=\"text-align: right;\">\n",
       "      <th></th>\n",
       "      <th>Item_Identifier</th>\n",
       "      <th>Item_Weight</th>\n",
       "      <th>Item_Fat_Content</th>\n",
       "      <th>Item_Visibility</th>\n",
       "      <th>Item_Type</th>\n",
       "      <th>Item_MRP</th>\n",
       "      <th>Outlet_Identifier</th>\n",
       "      <th>Outlet_Establishment_Year</th>\n",
       "      <th>Outlet_Size</th>\n",
       "      <th>Outlet_Location_Type</th>\n",
       "      <th>Outlet_Type</th>\n",
       "      <th>Item_Outlet_Sales</th>\n",
       "    </tr>\n",
       "  </thead>\n",
       "  <tbody>\n",
       "    <tr>\n",
       "      <th>0</th>\n",
       "      <td>FDA15</td>\n",
       "      <td>9.30</td>\n",
       "      <td>Low Fat</td>\n",
       "      <td>0.016047</td>\n",
       "      <td>Dairy</td>\n",
       "      <td>249.8092</td>\n",
       "      <td>OUT049</td>\n",
       "      <td>1999</td>\n",
       "      <td>Medium</td>\n",
       "      <td>Tier 1</td>\n",
       "      <td>Supermarket Type1</td>\n",
       "      <td>3735.1380</td>\n",
       "    </tr>\n",
       "    <tr>\n",
       "      <th>1</th>\n",
       "      <td>DRC01</td>\n",
       "      <td>5.92</td>\n",
       "      <td>Regular</td>\n",
       "      <td>0.019278</td>\n",
       "      <td>Soft Drinks</td>\n",
       "      <td>48.2692</td>\n",
       "      <td>OUT018</td>\n",
       "      <td>2009</td>\n",
       "      <td>Medium</td>\n",
       "      <td>Tier 3</td>\n",
       "      <td>Supermarket Type2</td>\n",
       "      <td>443.4228</td>\n",
       "    </tr>\n",
       "    <tr>\n",
       "      <th>2</th>\n",
       "      <td>FDN15</td>\n",
       "      <td>17.50</td>\n",
       "      <td>Low Fat</td>\n",
       "      <td>0.016760</td>\n",
       "      <td>Meat</td>\n",
       "      <td>141.6180</td>\n",
       "      <td>OUT049</td>\n",
       "      <td>1999</td>\n",
       "      <td>Medium</td>\n",
       "      <td>Tier 1</td>\n",
       "      <td>Supermarket Type1</td>\n",
       "      <td>2097.2700</td>\n",
       "    </tr>\n",
       "    <tr>\n",
       "      <th>3</th>\n",
       "      <td>FDX07</td>\n",
       "      <td>19.20</td>\n",
       "      <td>Regular</td>\n",
       "      <td>0.000000</td>\n",
       "      <td>Fruits and Vegetables</td>\n",
       "      <td>182.0950</td>\n",
       "      <td>OUT010</td>\n",
       "      <td>1998</td>\n",
       "      <td>Small</td>\n",
       "      <td>Tier 3</td>\n",
       "      <td>Grocery Store</td>\n",
       "      <td>732.3800</td>\n",
       "    </tr>\n",
       "    <tr>\n",
       "      <th>4</th>\n",
       "      <td>NCD19</td>\n",
       "      <td>8.93</td>\n",
       "      <td>Low Fat</td>\n",
       "      <td>0.000000</td>\n",
       "      <td>Household</td>\n",
       "      <td>53.8614</td>\n",
       "      <td>OUT013</td>\n",
       "      <td>1987</td>\n",
       "      <td>High</td>\n",
       "      <td>Tier 3</td>\n",
       "      <td>Supermarket Type1</td>\n",
       "      <td>994.7052</td>\n",
       "    </tr>\n",
       "  </tbody>\n",
       "</table>\n",
       "</div>"
      ],
      "text/plain": [
       "  Item_Identifier  Item_Weight Item_Fat_Content  Item_Visibility  \\\n",
       "0           FDA15         9.30          Low Fat         0.016047   \n",
       "1           DRC01         5.92          Regular         0.019278   \n",
       "2           FDN15        17.50          Low Fat         0.016760   \n",
       "3           FDX07        19.20          Regular         0.000000   \n",
       "4           NCD19         8.93          Low Fat         0.000000   \n",
       "\n",
       "               Item_Type  Item_MRP Outlet_Identifier  \\\n",
       "0                  Dairy  249.8092            OUT049   \n",
       "1            Soft Drinks   48.2692            OUT018   \n",
       "2                   Meat  141.6180            OUT049   \n",
       "3  Fruits and Vegetables  182.0950            OUT010   \n",
       "4              Household   53.8614            OUT013   \n",
       "\n",
       "   Outlet_Establishment_Year Outlet_Size Outlet_Location_Type  \\\n",
       "0                       1999      Medium               Tier 1   \n",
       "1                       2009      Medium               Tier 3   \n",
       "2                       1999      Medium               Tier 1   \n",
       "3                       1998       Small               Tier 3   \n",
       "4                       1987        High               Tier 3   \n",
       "\n",
       "         Outlet_Type  Item_Outlet_Sales  \n",
       "0  Supermarket Type1          3735.1380  \n",
       "1  Supermarket Type2           443.4228  \n",
       "2  Supermarket Type1          2097.2700  \n",
       "3      Grocery Store           732.3800  \n",
       "4  Supermarket Type1           994.7052  "
      ]
     },
     "execution_count": 42,
     "metadata": {},
     "output_type": "execute_result"
    }
   ],
   "source": [
    "sales_data.head()"
   ]
  },
  {
   "cell_type": "code",
   "execution_count": 43,
   "id": "0d25d664",
   "metadata": {},
   "outputs": [
    {
     "data": {
      "text/plain": [
       "Low Fat    5089\n",
       "Regular    2889\n",
       "LF          316\n",
       "reg         117\n",
       "low fat     112\n",
       "Name: Item_Fat_Content, dtype: int64"
      ]
     },
     "execution_count": 43,
     "metadata": {},
     "output_type": "execute_result"
    }
   ],
   "source": [
    "sales_data['Item_Fat_Content'].value_counts()"
   ]
  },
  {
   "cell_type": "code",
   "execution_count": 44,
   "id": "e6675371",
   "metadata": {},
   "outputs": [],
   "source": [
    "sales_data.replace({'Item_Fat_Content': {'low fat':'Low Fat','LF':'Low Fat', 'reg':'Regular'}}, inplace=True)"
   ]
  },
  {
   "cell_type": "code",
   "execution_count": 45,
   "id": "b69cc697",
   "metadata": {},
   "outputs": [
    {
     "data": {
      "text/plain": [
       "Low Fat    5517\n",
       "Regular    3006\n",
       "Name: Item_Fat_Content, dtype: int64"
      ]
     },
     "execution_count": 45,
     "metadata": {},
     "output_type": "execute_result"
    }
   ],
   "source": [
    "sales_data['Item_Fat_Content'].value_counts()"
   ]
  },
  {
   "cell_type": "markdown",
   "id": "69a4af44",
   "metadata": {},
   "source": [
    "- Hence, we have successfully cleaned the data in Item_Fat_Content column."
   ]
  },
  {
   "cell_type": "markdown",
   "id": "3fe17606",
   "metadata": {},
   "source": [
    "**LABEL ENCODING:**\n",
    "\n",
    "- Label Encoding refers to the convertion of the labels into a numeric form so as to convert them into the machine-readable form. Machine learning algorithms can then decide in a better way how those labels must be operated. It is an important pre-processing step for the structured dataset in supervised learning.\n",
    "\n",
    "- In simple terms, taking all the categorical values & transforming them into some numerical values"
   ]
  },
  {
   "cell_type": "code",
   "execution_count": 46,
   "id": "3da5b2e9",
   "metadata": {},
   "outputs": [],
   "source": [
    "encoder = LabelEncoder()"
   ]
  },
  {
   "cell_type": "code",
   "execution_count": 49,
   "id": "8bce3e97",
   "metadata": {},
   "outputs": [],
   "source": [
    "sales_data['Item_Identifier'] = encoder.fit_transform(sales_data['Item_Identifier'])\n",
    "\n",
    "sales_data['Item_Fat_Content'] = encoder.fit_transform(sales_data['Item_Fat_Content'])\n",
    "\n",
    "sales_data['Item_Type'] = encoder.fit_transform(sales_data['Item_Type'])\n",
    "\n",
    "sales_data['Outlet_Identifier'] = encoder.fit_transform(sales_data['Outlet_Identifier'])\n",
    "\n",
    "sales_data['Outlet_Size'] = encoder.fit_transform(sales_data['Outlet_Size'])\n",
    "\n",
    "sales_data['Outlet_Location_Type'] = encoder.fit_transform(sales_data['Outlet_Location_Type'])\n",
    "\n",
    "sales_data['Outlet_Type'] = encoder.fit_transform(sales_data['Outlet_Type'])"
   ]
  },
  {
   "cell_type": "code",
   "execution_count": 50,
   "id": "e42283cb",
   "metadata": {},
   "outputs": [
    {
     "data": {
      "text/html": [
       "<div>\n",
       "<style scoped>\n",
       "    .dataframe tbody tr th:only-of-type {\n",
       "        vertical-align: middle;\n",
       "    }\n",
       "\n",
       "    .dataframe tbody tr th {\n",
       "        vertical-align: top;\n",
       "    }\n",
       "\n",
       "    .dataframe thead th {\n",
       "        text-align: right;\n",
       "    }\n",
       "</style>\n",
       "<table border=\"1\" class=\"dataframe\">\n",
       "  <thead>\n",
       "    <tr style=\"text-align: right;\">\n",
       "      <th></th>\n",
       "      <th>Item_Identifier</th>\n",
       "      <th>Item_Weight</th>\n",
       "      <th>Item_Fat_Content</th>\n",
       "      <th>Item_Visibility</th>\n",
       "      <th>Item_Type</th>\n",
       "      <th>Item_MRP</th>\n",
       "      <th>Outlet_Identifier</th>\n",
       "      <th>Outlet_Establishment_Year</th>\n",
       "      <th>Outlet_Size</th>\n",
       "      <th>Outlet_Location_Type</th>\n",
       "      <th>Outlet_Type</th>\n",
       "      <th>Item_Outlet_Sales</th>\n",
       "    </tr>\n",
       "  </thead>\n",
       "  <tbody>\n",
       "    <tr>\n",
       "      <th>0</th>\n",
       "      <td>156</td>\n",
       "      <td>9.30</td>\n",
       "      <td>0</td>\n",
       "      <td>0.016047</td>\n",
       "      <td>4</td>\n",
       "      <td>249.8092</td>\n",
       "      <td>9</td>\n",
       "      <td>1999</td>\n",
       "      <td>1</td>\n",
       "      <td>0</td>\n",
       "      <td>1</td>\n",
       "      <td>3735.1380</td>\n",
       "    </tr>\n",
       "    <tr>\n",
       "      <th>1</th>\n",
       "      <td>8</td>\n",
       "      <td>5.92</td>\n",
       "      <td>1</td>\n",
       "      <td>0.019278</td>\n",
       "      <td>14</td>\n",
       "      <td>48.2692</td>\n",
       "      <td>3</td>\n",
       "      <td>2009</td>\n",
       "      <td>1</td>\n",
       "      <td>2</td>\n",
       "      <td>2</td>\n",
       "      <td>443.4228</td>\n",
       "    </tr>\n",
       "    <tr>\n",
       "      <th>2</th>\n",
       "      <td>662</td>\n",
       "      <td>17.50</td>\n",
       "      <td>0</td>\n",
       "      <td>0.016760</td>\n",
       "      <td>10</td>\n",
       "      <td>141.6180</td>\n",
       "      <td>9</td>\n",
       "      <td>1999</td>\n",
       "      <td>1</td>\n",
       "      <td>0</td>\n",
       "      <td>1</td>\n",
       "      <td>2097.2700</td>\n",
       "    </tr>\n",
       "    <tr>\n",
       "      <th>3</th>\n",
       "      <td>1121</td>\n",
       "      <td>19.20</td>\n",
       "      <td>1</td>\n",
       "      <td>0.000000</td>\n",
       "      <td>6</td>\n",
       "      <td>182.0950</td>\n",
       "      <td>0</td>\n",
       "      <td>1998</td>\n",
       "      <td>2</td>\n",
       "      <td>2</td>\n",
       "      <td>0</td>\n",
       "      <td>732.3800</td>\n",
       "    </tr>\n",
       "    <tr>\n",
       "      <th>4</th>\n",
       "      <td>1297</td>\n",
       "      <td>8.93</td>\n",
       "      <td>0</td>\n",
       "      <td>0.000000</td>\n",
       "      <td>9</td>\n",
       "      <td>53.8614</td>\n",
       "      <td>1</td>\n",
       "      <td>1987</td>\n",
       "      <td>0</td>\n",
       "      <td>2</td>\n",
       "      <td>1</td>\n",
       "      <td>994.7052</td>\n",
       "    </tr>\n",
       "  </tbody>\n",
       "</table>\n",
       "</div>"
      ],
      "text/plain": [
       "   Item_Identifier  Item_Weight  Item_Fat_Content  Item_Visibility  Item_Type  \\\n",
       "0              156         9.30                 0         0.016047          4   \n",
       "1                8         5.92                 1         0.019278         14   \n",
       "2              662        17.50                 0         0.016760         10   \n",
       "3             1121        19.20                 1         0.000000          6   \n",
       "4             1297         8.93                 0         0.000000          9   \n",
       "\n",
       "   Item_MRP  Outlet_Identifier  Outlet_Establishment_Year  Outlet_Size  \\\n",
       "0  249.8092                  9                       1999            1   \n",
       "1   48.2692                  3                       2009            1   \n",
       "2  141.6180                  9                       1999            1   \n",
       "3  182.0950                  0                       1998            2   \n",
       "4   53.8614                  1                       1987            0   \n",
       "\n",
       "   Outlet_Location_Type  Outlet_Type  Item_Outlet_Sales  \n",
       "0                     0            1          3735.1380  \n",
       "1                     2            2           443.4228  \n",
       "2                     0            1          2097.2700  \n",
       "3                     2            0           732.3800  \n",
       "4                     2            1           994.7052  "
      ]
     },
     "execution_count": 50,
     "metadata": {},
     "output_type": "execute_result"
    }
   ],
   "source": [
    "sales_data.head()"
   ]
  },
  {
   "cell_type": "markdown",
   "id": "1b706c7c",
   "metadata": {},
   "source": [
    "- Hence, we have only numerical values in our data where these categories are given some specific numerical values if it is unique.\n",
    "\n",
    "- Therefore we have successfully encoded categorical columns into numerical values which is an important data preprocessing step."
   ]
  },
  {
   "cell_type": "markdown",
   "id": "828ca6ed",
   "metadata": {},
   "source": [
    "**SPLITTING FEATURES AND TARGET INTO X & Y RESPECTIVELY**\n",
    "\n",
    "We know that the data in the \"Item_Outlet_Sales\" column is the target & remaining are the features"
   ]
  },
  {
   "cell_type": "code",
   "execution_count": 51,
   "id": "72ed92c0",
   "metadata": {},
   "outputs": [],
   "source": [
    "#Let's have all the features in X & target in Y\n",
    "X = sales_data.drop(columns='Item_Outlet_Sales', axis=1)\n",
    "Y = sales_data['Item_Outlet_Sales']"
   ]
  },
  {
   "cell_type": "code",
   "execution_count": 52,
   "id": "df31e7fd",
   "metadata": {},
   "outputs": [
    {
     "name": "stdout",
     "output_type": "stream",
     "text": [
      "      Item_Identifier  Item_Weight  Item_Fat_Content  Item_Visibility  \\\n",
      "0                 156        9.300                 0         0.016047   \n",
      "1                   8        5.920                 1         0.019278   \n",
      "2                 662       17.500                 0         0.016760   \n",
      "3                1121       19.200                 1         0.000000   \n",
      "4                1297        8.930                 0         0.000000   \n",
      "...               ...          ...               ...              ...   \n",
      "8518              370        6.865                 0         0.056783   \n",
      "8519              897        8.380                 1         0.046982   \n",
      "8520             1357       10.600                 0         0.035186   \n",
      "8521              681        7.210                 1         0.145221   \n",
      "8522               50       14.800                 0         0.044878   \n",
      "\n",
      "      Item_Type  Item_MRP  Outlet_Identifier  Outlet_Establishment_Year  \\\n",
      "0             4  249.8092                  9                       1999   \n",
      "1            14   48.2692                  3                       2009   \n",
      "2            10  141.6180                  9                       1999   \n",
      "3             6  182.0950                  0                       1998   \n",
      "4             9   53.8614                  1                       1987   \n",
      "...         ...       ...                ...                        ...   \n",
      "8518         13  214.5218                  1                       1987   \n",
      "8519          0  108.1570                  7                       2002   \n",
      "8520          8   85.1224                  6                       2004   \n",
      "8521         13  103.1332                  3                       2009   \n",
      "8522         14   75.4670                  8                       1997   \n",
      "\n",
      "      Outlet_Size  Outlet_Location_Type  Outlet_Type  \n",
      "0               1                     0            1  \n",
      "1               1                     2            2  \n",
      "2               1                     0            1  \n",
      "3               2                     2            0  \n",
      "4               0                     2            1  \n",
      "...           ...                   ...          ...  \n",
      "8518            0                     2            1  \n",
      "8519            2                     1            1  \n",
      "8520            2                     1            1  \n",
      "8521            1                     2            2  \n",
      "8522            2                     0            1  \n",
      "\n",
      "[8523 rows x 11 columns]\n"
     ]
    }
   ],
   "source": [
    "# X contains features\n",
    "print(X)"
   ]
  },
  {
   "cell_type": "code",
   "execution_count": 53,
   "id": "384cacfc",
   "metadata": {},
   "outputs": [
    {
     "name": "stdout",
     "output_type": "stream",
     "text": [
      "0       3735.1380\n",
      "1        443.4228\n",
      "2       2097.2700\n",
      "3        732.3800\n",
      "4        994.7052\n",
      "          ...    \n",
      "8518    2778.3834\n",
      "8519     549.2850\n",
      "8520    1193.1136\n",
      "8521    1845.5976\n",
      "8522     765.6700\n",
      "Name: Item_Outlet_Sales, Length: 8523, dtype: float64\n"
     ]
    }
   ],
   "source": [
    "# Y contains target\n",
    "print(Y)"
   ]
  },
  {
   "cell_type": "markdown",
   "id": "dfded498",
   "metadata": {},
   "source": [
    "#### SPLITTING THE DATA INTO TRAINING DATA & TESTING DATA"
   ]
  },
  {
   "cell_type": "code",
   "execution_count": 54,
   "id": "acbef55b",
   "metadata": {},
   "outputs": [],
   "source": [
    "X_train, X_test, Y_train, Y_test = train_test_split(X, Y, test_size=0.2, random_state=2)"
   ]
  },
  {
   "cell_type": "code",
   "execution_count": 55,
   "id": "e7f151c2",
   "metadata": {},
   "outputs": [
    {
     "name": "stdout",
     "output_type": "stream",
     "text": [
      "(8523, 11) (6818, 11) (1705, 11)\n"
     ]
    }
   ],
   "source": [
    "print(X.shape, X_train.shape, X_test.shape)"
   ]
  },
  {
   "cell_type": "markdown",
   "id": "e3475d2b",
   "metadata": {},
   "source": [
    "We can observe that\n",
    "\n",
    "- X contains the original data which is 8523\n",
    "\n",
    "- X_trains contains 80% of the data which is 6818\n",
    "\n",
    "- X_test contains 20% of the data which is 1705"
   ]
  },
  {
   "cell_type": "markdown",
   "id": "ee4a36cc",
   "metadata": {},
   "source": [
    "**MACHINE LEARNING MODEL**\n",
    "\n",
    "**SUPERVISED LEARNING:**\n",
    "\n",
    "- It is defined by its use of labeled datasets to train algorithms that to classify data or predict outcomes accurately.\n",
    "\n",
    "- Basically supervised learning is when we teach or train the machine using data that is well labeled.\n",
    "\n",
    "- In this particular project, the labels are the target which is more precise.\n",
    "\n",
    "- In this case the targets are sales amount.\n",
    "\n",
    "**REGRESSION:**\n",
    "\n",
    "- Regression means predicting a particular value especially continuous value (i.e.sales).\n",
    "\n",
    "\n",
    "**MACHINE LEARNING MODEL TRAINING - XGBoost Regressor**\n",
    "\n",
    "- Extreme Gradient Boosting (XGBoost) is an open-source library that provides an efficient and effective implementation of the gradient boosting algorithm.XGBoost is an efficient implementation of gradient boosting that can be used for regression predictive modeling.\n"
   ]
  },
  {
   "cell_type": "code",
   "execution_count": 56,
   "id": "16df9cca",
   "metadata": {},
   "outputs": [],
   "source": [
    "regressor = XGBRegressor()"
   ]
  },
  {
   "cell_type": "code",
   "execution_count": 57,
   "id": "6e9916e4",
   "metadata": {},
   "outputs": [
    {
     "data": {
      "text/plain": [
       "XGBRegressor(base_score=0.5, booster='gbtree', colsample_bylevel=1,\n",
       "             colsample_bynode=1, colsample_bytree=1, enable_categorical=False,\n",
       "             gamma=0, gpu_id=-1, importance_type=None,\n",
       "             interaction_constraints='', learning_rate=0.300000012,\n",
       "             max_delta_step=0, max_depth=6, min_child_weight=1, missing=nan,\n",
       "             monotone_constraints='()', n_estimators=100, n_jobs=4,\n",
       "             num_parallel_tree=1, predictor='auto', random_state=0, reg_alpha=0,\n",
       "             reg_lambda=1, scale_pos_weight=1, subsample=1, tree_method='exact',\n",
       "             validate_parameters=1, verbosity=None)"
      ]
     },
     "execution_count": 57,
     "metadata": {},
     "output_type": "execute_result"
    }
   ],
   "source": [
    "#fit the model\n",
    "#Training data is in X_train and the corresponding price value is in the Y_train\n",
    "regressor.fit(X_train, Y_train)"
   ]
  },
  {
   "cell_type": "markdown",
   "id": "231613cc",
   "metadata": {},
   "source": [
    "#### EVALUATION\n",
    "\n",
    "- The R2 score is a very important metric that is used to evaluate the performance of a regression-based machine learning model. It is pronounced as R squared and is also known as the coefficient of determination. It works by measuring the amount of variance in the predictions explained by the dataset."
   ]
  },
  {
   "cell_type": "markdown",
   "id": "eb4065b7",
   "metadata": {},
   "source": [
    "#### PREDICTION OF THE DATA"
   ]
  },
  {
   "cell_type": "code",
   "execution_count": 58,
   "id": "41fdbf79",
   "metadata": {},
   "outputs": [],
   "source": [
    "sales_data_prediction = regressor.predict(X_train)"
   ]
  },
  {
   "cell_type": "code",
   "execution_count": 59,
   "id": "bc72a979",
   "metadata": {},
   "outputs": [
    {
     "name": "stdout",
     "output_type": "stream",
     "text": [
      "R Squared value =  0.8639680373364909\n"
     ]
    }
   ],
   "source": [
    "# In order to check the performance of the model we find the R squared Value\n",
    "r2_sales = metrics.r2_score(Y_train, sales_data_prediction)\n",
    "print('R Squared value = ', r2_sales)"
   ]
  },
  {
   "cell_type": "code",
   "execution_count": 60,
   "id": "7423007f",
   "metadata": {},
   "outputs": [],
   "source": [
    "# prediction on test data\n",
    "data_prediction = regressor.predict(X_test)"
   ]
  },
  {
   "cell_type": "code",
   "execution_count": 61,
   "id": "98fcca13",
   "metadata": {},
   "outputs": [],
   "source": [
    "# R squared Value\n",
    "r2_data = metrics.r2_score(Y_test, data_prediction)"
   ]
  },
  {
   "cell_type": "code",
   "execution_count": 62,
   "id": "f0b63460",
   "metadata": {},
   "outputs": [
    {
     "name": "stdout",
     "output_type": "stream",
     "text": [
      "R Squared value =  0.5233136709735687\n"
     ]
    }
   ],
   "source": [
    "print('R Squared value = ', r2_data)"
   ]
  },
  {
   "cell_type": "markdown",
   "id": "2359c3c8",
   "metadata": {},
   "source": [
    "#### BUILDING A PREDICTIVE SYSTEM\n",
    "\n",
    "- Building a predictive system inorder to find the sales for the first product from the dataset."
   ]
  },
  {
   "cell_type": "code",
   "execution_count": 63,
   "id": "03bcb0d9",
   "metadata": {},
   "outputs": [
    {
     "name": "stdout",
     "output_type": "stream",
     "text": [
      "The sales for the first product in the dataset is predicted as  2282.8953\n"
     ]
    }
   ],
   "source": [
    "input_data = (156, 9.300, 0, 0.016047, 4, 249.8092, 9, 1999,1, 0, 1)\n",
    "#input_data_as_numpy_array = np.asarray(input_data)\n",
    "#input_data_reshaped = input_data_as_numpy_array.reshape(1,-1)\n",
    "#prediction = regressor.predict(input_data_reshaped)\n",
    "#print(prediction)\n",
    "#print(\"The initial value is \",prediction[0])\n",
    "print(\"The sales for the first product in the dataset is predicted as \", sales_data_prediction[0])"
   ]
  },
  {
   "cell_type": "code",
   "execution_count": 65,
   "id": "6fb958a2",
   "metadata": {},
   "outputs": [
    {
     "name": "stdout",
     "output_type": "stream",
     "text": [
      "Thus we have built the model to predict the sales & have performed the evaluation successfully.\n"
     ]
    }
   ],
   "source": [
    "print(\"Thus we have built the model to predict the sales & have performed the evaluation successfully.\")"
   ]
  },
  {
   "cell_type": "markdown",
   "id": "ccac2c44",
   "metadata": {},
   "source": [
    "STAY SAFE🏡 & STAY HEALTHY👩\n",
    "\n",
    "HAPPY LEARNING ✍ "
   ]
  },
  {
   "cell_type": "code",
   "execution_count": null,
   "id": "7093c4ea",
   "metadata": {},
   "outputs": [],
   "source": []
  },
  {
   "cell_type": "code",
   "execution_count": null,
   "id": "79e9a794",
   "metadata": {},
   "outputs": [],
   "source": []
  }
 ],
 "metadata": {
  "kernelspec": {
   "display_name": "Python 3",
   "language": "python",
   "name": "python3"
  },
  "language_info": {
   "codemirror_mode": {
    "name": "ipython",
    "version": 3
   },
   "file_extension": ".py",
   "mimetype": "text/x-python",
   "name": "python",
   "nbconvert_exporter": "python",
   "pygments_lexer": "ipython3",
   "version": "3.8.3"
  }
 },
 "nbformat": 4,
 "nbformat_minor": 5
}
